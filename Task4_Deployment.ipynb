{
  "nbformat": 4,
  "nbformat_minor": 0,
  "metadata": {
    "colab": {
      "provenance": [],
      "authorship_tag": "ABX9TyNqOEPvC97bq0Oqg0KHFAIp",
      "include_colab_link": true
    },
    "kernelspec": {
      "name": "python3",
      "display_name": "Python 3"
    },
    "language_info": {
      "name": "python"
    }
  },
  "cells": [
    {
      "cell_type": "markdown",
      "metadata": {
        "id": "view-in-github",
        "colab_type": "text"
      },
      "source": [
        "<a href=\"https://colab.research.google.com/github/meghanagaddalae/G.Meghana_Task4_ML__Internship.zip/blob/main/Task4_Deployment.ipynb\" target=\"_parent\"><img src=\"https://colab.research.google.com/assets/colab-badge.svg\" alt=\"Open In Colab\"/></a>"
      ]
    },
    {
      "cell_type": "code",
      "execution_count": 2,
      "metadata": {
        "colab": {
          "base_uri": "https://localhost:8080/",
          "height": 611
        },
        "id": "kjj9gmktQokB",
        "outputId": "dc0727be-e3f0-4c84-93da-456d88c692fb"
      },
      "outputs": [
        {
          "output_type": "stream",
          "name": "stdout",
          "text": [
            "Colab notebook detected. To show errors in colab notebook, set debug=True in launch()\n",
            "* Running on public URL: https://38eb97c93759ec07a4.gradio.live\n",
            "\n",
            "This share link expires in 1 week. For free permanent hosting and GPU upgrades, run `gradio deploy` from the terminal in the working directory to deploy to Hugging Face Spaces (https://huggingface.co/spaces)\n"
          ]
        },
        {
          "output_type": "display_data",
          "data": {
            "text/plain": [
              "<IPython.core.display.HTML object>"
            ],
            "text/html": [
              "<div><iframe src=\"https://38eb97c93759ec07a4.gradio.live\" width=\"100%\" height=\"500\" allow=\"autoplay; camera; microphone; clipboard-read; clipboard-write;\" frameborder=\"0\" allowfullscreen></iframe></div>"
            ]
          },
          "metadata": {}
        },
        {
          "output_type": "execute_result",
          "data": {
            "text/plain": []
          },
          "metadata": {},
          "execution_count": 2
        }
      ],
      "source": [
        "\n",
        "\n",
        "import pandas as pd\n",
        "from sklearn.model_selection import train_test_split\n",
        "from sklearn.preprocessing import StandardScaler\n",
        "from sklearn.linear_model import LogisticRegression\n",
        "import gradio as gr\n",
        "\n",
        "df = pd.read_csv(\"/content/archive (2).zip\")\n",
        "X = df.drop(\"target\", axis=1)\n",
        "y = df[\"target\"]\n",
        "\n",
        "X_encoded = pd.get_dummies(X, drop_first=True)\n",
        "scaler = StandardScaler()\n",
        "X_scaled = scaler.fit_transform(X_encoded)\n",
        "\n",
        "X_train, X_test, y_train, y_test = train_test_split(\n",
        "    X_scaled, y, test_size=0.2, random_state=42\n",
        ")\n",
        "\n",
        "model = LogisticRegression(max_iter=1000)\n",
        "model.fit(X_train, y_train)\n",
        "\n",
        "def predict_heart_disease(\n",
        "    age, sex, cp, trestbps, chol, fbs, restecg,\n",
        "    thalach, exang, oldpeak, slope, ca, thal\n",
        "):\n",
        "    input_dict = {\n",
        "        \"age\": [age],\n",
        "        \"sex\": [sex],\n",
        "        \"cp\": [cp],\n",
        "        \"trestbps\": [trestbps],\n",
        "        \"chol\": [chol],\n",
        "        \"fbs\": [fbs],\n",
        "        \"restecg\": [restecg],\n",
        "        \"thalach\": [thalach],\n",
        "        \"exang\": [exang],\n",
        "        \"oldpeak\": [oldpeak],\n",
        "        \"slope\": [slope],\n",
        "        \"ca\": [ca],\n",
        "        \"thal\": [thal],\n",
        "    }\n",
        "    df_input = pd.DataFrame(input_dict)\n",
        "\n",
        "    df_input_encoded = pd.get_dummies(df_input, drop_first=True)\n",
        "    df_input_encoded = df_input_encoded.reindex(columns=X_encoded.columns, fill_value=0)\n",
        "    scaled_input = scaler.transform(df_input_encoded)\n",
        "\n",
        "    pred = model.predict(scaled_input)[0]\n",
        "    prob = model.predict_proba(scaled_input)[0][1]\n",
        "\n",
        "    return f\"Prediction: {'Heart Disease' if pred==1 else 'No Heart Disease'} (Prob: {prob:.2f})\"\n",
        "inputs = [\n",
        "    gr.Number(label=\"Age\"),\n",
        "    gr.Number(label=\"Sex (1=Male, 0=Female)\"),\n",
        "    gr.Number(label=\"Chest Pain Type (0-3)\"),\n",
        "    gr.Number(label=\"Resting BP\"),\n",
        "    gr.Number(label=\"Cholesterol\"),\n",
        "    gr.Number(label=\"Fasting Blood Sugar (>120mg/dl, 1=True, 0=False)\"),\n",
        "    gr.Number(label=\"Rest ECG (0-2)\"),\n",
        "    gr.Number(label=\"Max Heart Rate Achieved\"),\n",
        "    gr.Number(label=\"Exercise Induced Angina (1=Yes, 0=No)\"),\n",
        "    gr.Number(label=\"ST Depression (oldpeak)\"),\n",
        "    gr.Number(label=\"Slope (0-2)\"),\n",
        "    gr.Number(label=\"CA (0-3)\"),\n",
        "    gr.Number(label=\"Thal (1=Normal, 2=Fixed Defect, 3=Reversable Defect)\"),\n",
        "]\n",
        "\n",
        "output = gr.Textbox(label=\"Result\")\n",
        "\n",
        "app = gr.Interface(fn=predict_heart_disease, inputs=inputs, outputs=output,\n",
        "                   title=\"Heart Disease Prediction App\",\n",
        "                   description=\"Enter patient details and get a prediction.\")\n",
        "\n",
        "app.launch(share=True)\n"
      ]
    }
  ]
}